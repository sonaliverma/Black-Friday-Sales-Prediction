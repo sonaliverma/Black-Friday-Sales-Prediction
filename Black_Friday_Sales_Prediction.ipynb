{
  "nbformat": 4,
  "nbformat_minor": 0,
  "metadata": {
    "colab": {
      "name": "Untitled0.ipynb",
      "provenance": [],
      "collapsed_sections": []
    },
    "kernelspec": {
      "name": "python3",
      "display_name": "Python 3"
    }
  },
  "cells": [
    {
      "cell_type": "code",
      "metadata": {
        "id": "_HM5JCifMtBJ",
        "colab_type": "code",
        "colab": {}
      },
      "source": [
        "#Import Section\n",
        "from sklearn.feature_selection import SelectKBest,f_regression\n",
        "from sklearn.linear_model import LinearRegression,BayesianRidge,ElasticNet,Lasso,SGDRegressor,Ridge\n",
        "from sklearn.kernel_ridge import KernelRidge\n",
        "from sklearn.pipeline import make_pipeline,Pipeline\n",
        "from sklearn.metrics import mean_squared_error\n",
        "from sklearn.decomposition import PCA,KernelPCA\n",
        "from sklearn.ensemble import ExtraTreesRegressor,GradientBoostingRegressor,RandomForestRegressor,VotingClassifier\n",
        "from sklearn.model_selection import cross_val_score,KFold,GridSearchCV,RandomizedSearchCV,StratifiedKFold,train_test_split\n",
        "from sklearn.base import BaseEstimator,clone,TransformerMixin,RegressorMixin\n",
        "from sklearn.svm import LinearSVR,SVR\n",
        "from sklearn.preprocessing import StandardScaler\n",
        "#import xgboost \n",
        "from xgboost import XGBRegressor\n",
        "#Import Pandas\n",
        "import pandas as pd\n",
        "import numpy as np\n",
        "import matplotlib.pyplot as plt\n",
        "import matplotlib\n",
        "import seaborn as sns\n",
        "import warnings\n",
        "warnings.filterwarnings('ignore')\n",
        "from scipy.stats import skew\n",
        "from scipy.stats.stats import pearsonr\n",
        "from sklearn.impute import SimpleImputer\n",
        "imputer = SimpleImputer(missing_values=np.nan, strategy='mean')\n",
        "%matplotlib inline"
      ],
      "execution_count": 0,
      "outputs": []
    },
    {
      "cell_type": "code",
      "metadata": {
        "id": "EfO1vUPnILo2",
        "colab_type": "code",
        "colab": {}
      },
      "source": [
        "train = pd.read_csv('/content/train.csv')\n",
        "test=pd.read_csv('/content/test.csv')"
      ],
      "execution_count": 0,
      "outputs": []
    },
    {
      "cell_type": "code",
      "metadata": {
        "id": "m86KOiTqKQ62",
        "colab_type": "code",
        "outputId": "021f67b1-abe7-4bef-8cf6-a04477e47aed",
        "colab": {
          "base_uri": "https://localhost:8080/",
          "height": 292
        }
      },
      "source": [
        "train.head()"
      ],
      "execution_count": 159,
      "outputs": [
        {
          "output_type": "execute_result",
          "data": {
            "text/html": [
              "<div>\n",
              "<style scoped>\n",
              "    .dataframe tbody tr th:only-of-type {\n",
              "        vertical-align: middle;\n",
              "    }\n",
              "\n",
              "    .dataframe tbody tr th {\n",
              "        vertical-align: top;\n",
              "    }\n",
              "\n",
              "    .dataframe thead th {\n",
              "        text-align: right;\n",
              "    }\n",
              "</style>\n",
              "<table border=\"1\" class=\"dataframe\">\n",
              "  <thead>\n",
              "    <tr style=\"text-align: right;\">\n",
              "      <th></th>\n",
              "      <th>User_ID</th>\n",
              "      <th>Product_ID</th>\n",
              "      <th>Gender</th>\n",
              "      <th>Age</th>\n",
              "      <th>Occupation</th>\n",
              "      <th>City_Category</th>\n",
              "      <th>Stay_In_Current_City_Years</th>\n",
              "      <th>Marital_Status</th>\n",
              "      <th>Product_Category_1</th>\n",
              "      <th>Product_Category_2</th>\n",
              "      <th>Product_Category_3</th>\n",
              "      <th>Purchase</th>\n",
              "    </tr>\n",
              "  </thead>\n",
              "  <tbody>\n",
              "    <tr>\n",
              "      <th>0</th>\n",
              "      <td>1000001</td>\n",
              "      <td>P00069042</td>\n",
              "      <td>F</td>\n",
              "      <td>0-17</td>\n",
              "      <td>10</td>\n",
              "      <td>A</td>\n",
              "      <td>2</td>\n",
              "      <td>0</td>\n",
              "      <td>3</td>\n",
              "      <td>NaN</td>\n",
              "      <td>NaN</td>\n",
              "      <td>8370</td>\n",
              "    </tr>\n",
              "    <tr>\n",
              "      <th>1</th>\n",
              "      <td>1000001</td>\n",
              "      <td>P00248942</td>\n",
              "      <td>F</td>\n",
              "      <td>0-17</td>\n",
              "      <td>10</td>\n",
              "      <td>A</td>\n",
              "      <td>2</td>\n",
              "      <td>0</td>\n",
              "      <td>1</td>\n",
              "      <td>6.0</td>\n",
              "      <td>14.0</td>\n",
              "      <td>15200</td>\n",
              "    </tr>\n",
              "    <tr>\n",
              "      <th>2</th>\n",
              "      <td>1000001</td>\n",
              "      <td>P00087842</td>\n",
              "      <td>F</td>\n",
              "      <td>0-17</td>\n",
              "      <td>10</td>\n",
              "      <td>A</td>\n",
              "      <td>2</td>\n",
              "      <td>0</td>\n",
              "      <td>12</td>\n",
              "      <td>NaN</td>\n",
              "      <td>NaN</td>\n",
              "      <td>1422</td>\n",
              "    </tr>\n",
              "    <tr>\n",
              "      <th>3</th>\n",
              "      <td>1000001</td>\n",
              "      <td>P00085442</td>\n",
              "      <td>F</td>\n",
              "      <td>0-17</td>\n",
              "      <td>10</td>\n",
              "      <td>A</td>\n",
              "      <td>2</td>\n",
              "      <td>0</td>\n",
              "      <td>12</td>\n",
              "      <td>14.0</td>\n",
              "      <td>NaN</td>\n",
              "      <td>1057</td>\n",
              "    </tr>\n",
              "    <tr>\n",
              "      <th>4</th>\n",
              "      <td>1000002</td>\n",
              "      <td>P00285442</td>\n",
              "      <td>M</td>\n",
              "      <td>55+</td>\n",
              "      <td>16</td>\n",
              "      <td>C</td>\n",
              "      <td>4+</td>\n",
              "      <td>0</td>\n",
              "      <td>8</td>\n",
              "      <td>NaN</td>\n",
              "      <td>NaN</td>\n",
              "      <td>7969</td>\n",
              "    </tr>\n",
              "  </tbody>\n",
              "</table>\n",
              "</div>"
            ],
            "text/plain": [
              "   User_ID Product_ID Gender  ... Product_Category_2  Product_Category_3 Purchase\n",
              "0  1000001  P00069042      F  ...                NaN                 NaN     8370\n",
              "1  1000001  P00248942      F  ...                6.0                14.0    15200\n",
              "2  1000001  P00087842      F  ...                NaN                 NaN     1422\n",
              "3  1000001  P00085442      F  ...               14.0                 NaN     1057\n",
              "4  1000002  P00285442      M  ...                NaN                 NaN     7969\n",
              "\n",
              "[5 rows x 12 columns]"
            ]
          },
          "metadata": {
            "tags": []
          },
          "execution_count": 159
        }
      ]
    },
    {
      "cell_type": "code",
      "metadata": {
        "id": "fP0dbmfTxOua",
        "colab_type": "code",
        "outputId": "dafa6f2c-a937-499d-ab2e-2ec65622bdbf",
        "colab": {
          "base_uri": "https://localhost:8080/",
          "height": 309
        }
      },
      "source": [
        "test.head()"
      ],
      "execution_count": 160,
      "outputs": [
        {
          "output_type": "execute_result",
          "data": {
            "text/html": [
              "<div>\n",
              "<style scoped>\n",
              "    .dataframe tbody tr th:only-of-type {\n",
              "        vertical-align: middle;\n",
              "    }\n",
              "\n",
              "    .dataframe tbody tr th {\n",
              "        vertical-align: top;\n",
              "    }\n",
              "\n",
              "    .dataframe thead th {\n",
              "        text-align: right;\n",
              "    }\n",
              "</style>\n",
              "<table border=\"1\" class=\"dataframe\">\n",
              "  <thead>\n",
              "    <tr style=\"text-align: right;\">\n",
              "      <th></th>\n",
              "      <th>User_ID</th>\n",
              "      <th>Product_ID</th>\n",
              "      <th>Gender</th>\n",
              "      <th>Age</th>\n",
              "      <th>Occupation</th>\n",
              "      <th>City_Category</th>\n",
              "      <th>Stay_In_Current_City_Years</th>\n",
              "      <th>Marital_Status</th>\n",
              "      <th>Product_Category_1</th>\n",
              "      <th>Product_Category_2</th>\n",
              "      <th>Product_Category_3</th>\n",
              "    </tr>\n",
              "  </thead>\n",
              "  <tbody>\n",
              "    <tr>\n",
              "      <th>0</th>\n",
              "      <td>1000004</td>\n",
              "      <td>P00128942</td>\n",
              "      <td>M</td>\n",
              "      <td>46-50</td>\n",
              "      <td>7</td>\n",
              "      <td>B</td>\n",
              "      <td>2</td>\n",
              "      <td>1</td>\n",
              "      <td>1</td>\n",
              "      <td>11.0</td>\n",
              "      <td>NaN</td>\n",
              "    </tr>\n",
              "    <tr>\n",
              "      <th>1</th>\n",
              "      <td>1000009</td>\n",
              "      <td>P00113442</td>\n",
              "      <td>M</td>\n",
              "      <td>26-35</td>\n",
              "      <td>17</td>\n",
              "      <td>C</td>\n",
              "      <td>0</td>\n",
              "      <td>0</td>\n",
              "      <td>3</td>\n",
              "      <td>5.0</td>\n",
              "      <td>NaN</td>\n",
              "    </tr>\n",
              "    <tr>\n",
              "      <th>2</th>\n",
              "      <td>1000010</td>\n",
              "      <td>P00288442</td>\n",
              "      <td>F</td>\n",
              "      <td>36-45</td>\n",
              "      <td>1</td>\n",
              "      <td>B</td>\n",
              "      <td>4+</td>\n",
              "      <td>1</td>\n",
              "      <td>5</td>\n",
              "      <td>14.0</td>\n",
              "      <td>NaN</td>\n",
              "    </tr>\n",
              "    <tr>\n",
              "      <th>3</th>\n",
              "      <td>1000010</td>\n",
              "      <td>P00145342</td>\n",
              "      <td>F</td>\n",
              "      <td>36-45</td>\n",
              "      <td>1</td>\n",
              "      <td>B</td>\n",
              "      <td>4+</td>\n",
              "      <td>1</td>\n",
              "      <td>4</td>\n",
              "      <td>9.0</td>\n",
              "      <td>NaN</td>\n",
              "    </tr>\n",
              "    <tr>\n",
              "      <th>4</th>\n",
              "      <td>1000011</td>\n",
              "      <td>P00053842</td>\n",
              "      <td>F</td>\n",
              "      <td>26-35</td>\n",
              "      <td>1</td>\n",
              "      <td>C</td>\n",
              "      <td>1</td>\n",
              "      <td>0</td>\n",
              "      <td>4</td>\n",
              "      <td>5.0</td>\n",
              "      <td>12.0</td>\n",
              "    </tr>\n",
              "  </tbody>\n",
              "</table>\n",
              "</div>"
            ],
            "text/plain": [
              "   User_ID Product_ID  ... Product_Category_2 Product_Category_3\n",
              "0  1000004  P00128942  ...               11.0                NaN\n",
              "1  1000009  P00113442  ...                5.0                NaN\n",
              "2  1000010  P00288442  ...               14.0                NaN\n",
              "3  1000010  P00145342  ...                9.0                NaN\n",
              "4  1000011  P00053842  ...                5.0               12.0\n",
              "\n",
              "[5 rows x 11 columns]"
            ]
          },
          "metadata": {
            "tags": []
          },
          "execution_count": 160
        }
      ]
    },
    {
      "cell_type": "markdown",
      "metadata": {
        "id": "4mqmPrpbKR7-",
        "colab_type": "text"
      },
      "source": [
        "**EDA**"
      ]
    },
    {
      "cell_type": "code",
      "metadata": {
        "id": "CklwySMv4xUw",
        "colab_type": "code",
        "outputId": "55de8139-cb29-4130-902e-77e50ab1e334",
        "colab": {
          "base_uri": "https://localhost:8080/",
          "height": 685
        }
      },
      "source": [
        "plt.figure(figsize=(12,10))\n",
        "cor = train.corr()\n",
        "sns.heatmap(cor, annot=True, cmap=plt.cm.Reds)\n",
        "plt.show()"
      ],
      "execution_count": 64,
      "outputs": [
        {
          "output_type": "display_data",
          "data": {
            "image/png": "[encoded data removed]",
            "text/plain": [
              "<Figure size 864x720 with 2 Axes>"
            ]
          },
          "metadata": {
            "tags": [],
            "needs_background": "light"
          }
        }
      ]
    },
    {
      "cell_type": "code",
      "metadata": {
        "id": "W-OpPqEFGZKT",
        "colab_type": "code",
        "outputId": "58f19b40-e052-424c-bc52-d8f2a4cdb2d4",
        "colab": {
          "base_uri": "https://localhost:8080/",
          "height": 297
        }
      },
      "source": [
        "sns.countplot(data=train,x='Marital_Status')"
      ],
      "execution_count": 65,
      "outputs": [
        {
          "output_type": "execute_result",
          "data": {
            "text/plain": [
              "<matplotlib.axes._subplots.AxesSubplot at 0x7f7ff545a710>"
            ]
          },
          "metadata": {
            "tags": []
          },
          "execution_count": 65
        },
        {
          "output_type": "display_data",
          "data": {
            "image/png": "[encoded data removed]",
            "text/plain": [
              "<Figure size 432x288 with 1 Axes>"
            ]
          },
          "metadata": {
            "tags": [],
            "needs_background": "light"
          }
        }
      ]
    },
    {
      "cell_type": "code",
      "metadata": {
        "id": "eDqMG2ToK703",
        "colab_type": "code",
        "outputId": "cc7f895b-5628-487a-d494-c5b2be81401d",
        "colab": {
          "base_uri": "https://localhost:8080/",
          "height": 296
        }
      },
      "source": [
        "sns.countplot(data=train,x='Age')"
      ],
      "execution_count": 69,
      "outputs": [
        {
          "output_type": "execute_result",
          "data": {
            "text/plain": [
              "<matplotlib.axes._subplots.AxesSubplot at 0x7f7ff52baba8>"
            ]
          },
          "metadata": {
            "tags": []
          },
          "execution_count": 69
        },
        {
          "output_type": "display_data",
          "data": {
            "image/png": "[encoded data removed]",
            "text/plain": [
              "<Figure size 432x288 with 1 Axes>"
            ]
          },
          "metadata": {
            "tags": [],
            "needs_background": "light"
          }
        }
      ]
    },
    {
      "cell_type": "code",
      "metadata": {
        "id": "Pu_AVoHDLPqX",
        "colab_type": "code",
        "outputId": "c535208f-6239-4649-ce63-ce624b00c8a5",
        "colab": {
          "base_uri": "https://localhost:8080/",
          "height": 296
        }
      },
      "source": [
        "sns.countplot(data=train,x='Occupation')"
      ],
      "execution_count": 70,
      "outputs": [
        {
          "output_type": "execute_result",
          "data": {
            "text/plain": [
              "<matplotlib.axes._subplots.AxesSubplot at 0x7f7ff521b8d0>"
            ]
          },
          "metadata": {
            "tags": []
          },
          "execution_count": 70
        },
        {
          "output_type": "display_data",
          "data": {
            "image/png": "[encoded data removed]",
            "text/plain": [
              "<Figure size 432x288 with 1 Axes>"
            ]
          },
          "metadata": {
            "tags": [],
            "needs_background": "light"
          }
        }
      ]
    },
    {
      "cell_type": "code",
      "metadata": {
        "id": "cFu11coYLXK1",
        "colab_type": "code",
        "outputId": "1715a0c5-bd34-45da-80fb-79402e4f43ac",
        "colab": {
          "base_uri": "https://localhost:8080/",
          "height": 297
        }
      },
      "source": [
        "sns.countplot(data=train,x='City_Category')"
      ],
      "execution_count": 71,
      "outputs": [
        {
          "output_type": "execute_result",
          "data": {
            "text/plain": [
              "<matplotlib.axes._subplots.AxesSubplot at 0x7f7ff51a7198>"
            ]
          },
          "metadata": {
            "tags": []
          },
          "execution_count": 71
        },
        {
          "output_type": "display_data",
          "data": {
            "image/png": "[encoded data removed]",
            "text/plain": [
              "<Figure size 432x288 with 1 Axes>"
            ]
          },
          "metadata": {
            "tags": [],
            "needs_background": "light"
          }
        }
      ]
    },
    {
      "cell_type": "code",
      "metadata": {
        "id": "Y5ngtDsTLqnS",
        "colab_type": "code",
        "outputId": "4763addc-1940-4a44-d15c-f68277c26540",
        "colab": {
          "base_uri": "https://localhost:8080/",
          "height": 297
        }
      },
      "source": [
        "sns.countplot(data=train,x='Stay_In_Current_City_Years')"
      ],
      "execution_count": 72,
      "outputs": [
        {
          "output_type": "execute_result",
          "data": {
            "text/plain": [
              "<matplotlib.axes._subplots.AxesSubplot at 0x7f7ff5113358>"
            ]
          },
          "metadata": {
            "tags": []
          },
          "execution_count": 72
        },
        {
          "output_type": "display_data",
          "data": {
            "image/png": "[encoded data removed]",
            "text/plain": [
              "<Figure size 432x288 with 1 Axes>"
            ]
          },
          "metadata": {
            "tags": [],
            "needs_background": "light"
          }
        }
      ]
    },
    {
      "cell_type": "code",
      "metadata": {
        "id": "OS3Yr99fL8q8",
        "colab_type": "code",
        "outputId": "84995b0a-8f70-4277-b850-13fbde1e684a",
        "colab": {
          "base_uri": "https://localhost:8080/",
          "height": 297
        }
      },
      "source": [
        "sns.countplot(data=train,x='Product_ID')"
      ],
      "execution_count": 73,
      "outputs": [
        {
          "output_type": "execute_result",
          "data": {
            "text/plain": [
              "<matplotlib.axes._subplots.AxesSubplot at 0x7f7ff47c3588>"
            ]
          },
          "metadata": {
            "tags": []
          },
          "execution_count": 73
        },
        {
          "output_type": "display_data",
          "data": {
            "image/png": "[encoded data removed]",
            "text/plain": [
              "<Figure size 432x288 with 1 Axes>"
            ]
          },
          "metadata": {
            "tags": [],
            "needs_background": "light"
          }
        }
      ]
    },
    {
      "cell_type": "markdown",
      "metadata": {
        "id": "OTpWIsepMvYn",
        "colab_type": "text"
      },
      "source": [
        "BIVARIATE ANALYSIS"
      ]
    },
    {
      "cell_type": "code",
      "metadata": {
        "id": "zF_0rXf-NHss",
        "colab_type": "code",
        "outputId": "a4c6376c-71ad-410b-e27a-df6a6a8a5ef5",
        "colab": {
          "base_uri": "https://localhost:8080/",
          "height": 458
        }
      },
      "source": [
        "fig1 = \\\n",
        "new_df=train.pivot_table(index='Occupation', values=\"Purchase\", aggfunc=np.mean)\n",
        "fig1.plot(kind='bar', color='blue',figsize=(12,7))\n",
        "plt.xlabel(\"Occupation\")\n",
        "plt.ylabel(\"Purchase\")\n",
        "plt.title(\"Occupation and Purchase Analysis\")\n",
        "plt.xticks(rotation=0)\n",
        "plt.show()"
      ],
      "execution_count": 74,
      "outputs": [
        {
          "output_type": "display_data",
          "data": {
            "image/png": "[encoded data removed]",
            "text/plain": [
              "<Figure size 864x504 with 1 Axes>"
            ]
          },
          "metadata": {
            "tags": [],
            "needs_background": "light"
          }
        }
      ]
    },
    {
      "cell_type": "code",
      "metadata": {
        "id": "mWYE5vnrS_dO",
        "colab_type": "code",
        "outputId": "eba70a49-4382-49af-dfa0-9b3b8d65ec61",
        "colab": {
          "base_uri": "https://localhost:8080/",
          "height": 459
        }
      },
      "source": [
        "fig2 = \\\n",
        "new_df=train.pivot_table(index='Marital_Status', values=\"Purchase\", aggfunc=np.mean)\n",
        "fig2.plot(kind='bar', color='blue',figsize=(12,7))\n",
        "plt.xlabel(\"Marital_Status\")\n",
        "plt.ylabel(\"Purchase\")\n",
        "plt.title(\"Marital_Status and Purchase Analysis\")\n",
        "plt.xticks(rotation=0)\n",
        "plt.show()"
      ],
      "execution_count": 75,
      "outputs": [
        {
          "output_type": "display_data",
          "data": {
            "image/png": "[encoded data removed]",
            "text/plain": [
              "<Figure size 864x504 with 1 Axes>"
            ]
          },
          "metadata": {
            "tags": [],
            "needs_background": "light"
          }
        }
      ]
    },
    {
      "cell_type": "code",
      "metadata": {
        "id": "AZwy2y4CTaNy",
        "colab_type": "code",
        "outputId": "b5813081-7855-42bd-e318-4ec0f20001ce",
        "colab": {
          "base_uri": "https://localhost:8080/",
          "height": 458
        }
      },
      "source": [
        "fig3 = \\\n",
        "new_df=train.pivot_table(index='Gender', values=\"Purchase\", aggfunc=np.mean)\n",
        "fig3.plot(kind='bar', color='blue',figsize=(12,7))\n",
        "plt.xlabel(\"Gender\")\n",
        "plt.ylabel(\"Purchase\")\n",
        "plt.title(\"Gender and Purchase Analysis\")\n",
        "plt.xticks(rotation=0)\n",
        "plt.show()"
      ],
      "execution_count": 76,
      "outputs": [
        {
          "output_type": "display_data",
          "data": {
            "image/png": "[encoded data removed]",
            "text/plain": [
              "<Figure size 864x504 with 1 Axes>"
            ]
          },
          "metadata": {
            "tags": [],
            "needs_background": "light"
          }
        }
      ]
    },
    {
      "cell_type": "code",
      "metadata": {
        "id": "19kpA3l_Ttbr",
        "colab_type": "code",
        "outputId": "c5d417c8-df04-4e9a-9046-9db9c86e67c2",
        "colab": {
          "base_uri": "https://localhost:8080/",
          "height": 459
        }
      },
      "source": [
        "fig4 = \\\n",
        "train.pivot_table(index='Product_Category_1', values=\"Purchase\", aggfunc=np.sum)\n",
        "fig4.plot(kind='bar', color='blue',figsize=(12,7))\n",
        "plt.xlabel(\"Product_Category_1\")\n",
        "plt.ylabel(\"Purchase\")\n",
        "plt.title(\"Product_Category_1 and Purchase Analysis\")\n",
        "plt.xticks(rotation=0)\n",
        "plt.show()"
      ],
      "execution_count": 77,
      "outputs": [
        {
          "output_type": "display_data",
          "data": {
            "image/png": "[encoded data removed]",
            "text/plain": [
              "<Figure size 864x504 with 1 Axes>"
            ]
          },
          "metadata": {
            "tags": [],
            "needs_background": "light"
          }
        }
      ]
    },
    {
      "cell_type": "markdown",
      "metadata": {
        "id": "Q6AKG_wxUYu_",
        "colab_type": "text"
      },
      "source": [
        "**Data PreProcessing**"
      ]
    },
    {
      "cell_type": "code",
      "metadata": {
        "id": "MEOjHkRu9Cf7",
        "colab_type": "code",
        "colab": {}
      },
      "source": [
        ""
      ],
      "execution_count": 0,
      "outputs": []
    },
    {
      "cell_type": "code",
      "metadata": {
        "id": "_c1tIHBBq6sy",
        "colab_type": "code",
        "outputId": "04324462-7e94-416a-fc64-f0f85c658660",
        "colab": {
          "base_uri": "https://localhost:8080/",
          "height": 34
        }
      },
      "source": [
        "# Join Train and Test Dataset\n",
        "train['source']='train'\n",
        "test['source']='test'\n",
        "data = pd.concat([train,test], ignore_index = True, sort = False)\n",
        "print(train.shape,test.shape, data.shape)"
      ],
      "execution_count": 161,
      "outputs": [
        {
          "output_type": "stream",
          "text": [
            "(550068, 13) (233599, 12) (783667, 13)\n"
          ],
          "name": "stdout"
        }
      ]
    },
    {
      "cell_type": "code",
      "metadata": {
        "id": "PP0_LDtfHMhm",
        "colab_type": "code",
        "outputId": "8c79b285-504f-4bc5-ec51-3077cc769931",
        "colab": {
          "base_uri": "https://localhost:8080/",
          "height": 297
        }
      },
      "source": [
        "data.describe()"
      ],
      "execution_count": 162,
      "outputs": [
        {
          "output_type": "execute_result",
          "data": {
            "text/html": [
              "<div>\n",
              "<style scoped>\n",
              "    .dataframe tbody tr th:only-of-type {\n",
              "        vertical-align: middle;\n",
              "    }\n",
              "\n",
              "    .dataframe tbody tr th {\n",
              "        vertical-align: top;\n",
              "    }\n",
              "\n",
              "    .dataframe thead th {\n",
              "        text-align: right;\n",
              "    }\n",
              "</style>\n",
              "<table border=\"1\" class=\"dataframe\">\n",
              "  <thead>\n",
              "    <tr style=\"text-align: right;\">\n",
              "      <th></th>\n",
              "      <th>User_ID</th>\n",
              "      <th>Occupation</th>\n",
              "      <th>Marital_Status</th>\n",
              "      <th>Product_Category_1</th>\n",
              "      <th>Product_Category_2</th>\n",
              "      <th>Product_Category_3</th>\n",
              "      <th>Purchase</th>\n",
              "    </tr>\n",
              "  </thead>\n",
              "  <tbody>\n",
              "    <tr>\n",
              "      <th>count</th>\n",
              "      <td>7.836670e+05</td>\n",
              "      <td>783667.000000</td>\n",
              "      <td>783667.000000</td>\n",
              "      <td>783667.000000</td>\n",
              "      <td>537685.000000</td>\n",
              "      <td>237858.000000</td>\n",
              "      <td>550068.000000</td>\n",
              "    </tr>\n",
              "    <tr>\n",
              "      <th>mean</th>\n",
              "      <td>1.003029e+06</td>\n",
              "      <td>8.079300</td>\n",
              "      <td>0.409777</td>\n",
              "      <td>5.366196</td>\n",
              "      <td>9.844506</td>\n",
              "      <td>12.668605</td>\n",
              "      <td>9263.968713</td>\n",
              "    </tr>\n",
              "    <tr>\n",
              "      <th>std</th>\n",
              "      <td>1.727267e+03</td>\n",
              "      <td>6.522206</td>\n",
              "      <td>0.491793</td>\n",
              "      <td>3.878160</td>\n",
              "      <td>5.089093</td>\n",
              "      <td>4.125510</td>\n",
              "      <td>5023.065394</td>\n",
              "    </tr>\n",
              "    <tr>\n",
              "      <th>min</th>\n",
              "      <td>1.000001e+06</td>\n",
              "      <td>0.000000</td>\n",
              "      <td>0.000000</td>\n",
              "      <td>1.000000</td>\n",
              "      <td>2.000000</td>\n",
              "      <td>3.000000</td>\n",
              "      <td>12.000000</td>\n",
              "    </tr>\n",
              "    <tr>\n",
              "      <th>25%</th>\n",
              "      <td>1.001519e+06</td>\n",
              "      <td>2.000000</td>\n",
              "      <td>0.000000</td>\n",
              "      <td>1.000000</td>\n",
              "      <td>5.000000</td>\n",
              "      <td>9.000000</td>\n",
              "      <td>5823.000000</td>\n",
              "    </tr>\n",
              "    <tr>\n",
              "      <th>50%</th>\n",
              "      <td>1.003075e+06</td>\n",
              "      <td>7.000000</td>\n",
              "      <td>0.000000</td>\n",
              "      <td>5.000000</td>\n",
              "      <td>9.000000</td>\n",
              "      <td>14.000000</td>\n",
              "      <td>8047.000000</td>\n",
              "    </tr>\n",
              "    <tr>\n",
              "      <th>75%</th>\n",
              "      <td>1.004478e+06</td>\n",
              "      <td>14.000000</td>\n",
              "      <td>1.000000</td>\n",
              "      <td>8.000000</td>\n",
              "      <td>15.000000</td>\n",
              "      <td>16.000000</td>\n",
              "      <td>12054.000000</td>\n",
              "    </tr>\n",
              "    <tr>\n",
              "      <th>max</th>\n",
              "      <td>1.006040e+06</td>\n",
              "      <td>20.000000</td>\n",
              "      <td>1.000000</td>\n",
              "      <td>20.000000</td>\n",
              "      <td>18.000000</td>\n",
              "      <td>18.000000</td>\n",
              "      <td>23961.000000</td>\n",
              "    </tr>\n",
              "  </tbody>\n",
              "</table>\n",
              "</div>"
            ],
            "text/plain": [
              "            User_ID     Occupation  ...  Product_Category_3       Purchase\n",
              "count  7.836670e+05  783667.000000  ...       237858.000000  550068.000000\n",
              "mean   1.003029e+06       8.079300  ...           12.668605    9263.968713\n",
              "std    1.727267e+03       6.522206  ...            4.125510    5023.065394\n",
              "min    1.000001e+06       0.000000  ...            3.000000      12.000000\n",
              "25%    1.001519e+06       2.000000  ...            9.000000    5823.000000\n",
              "50%    1.003075e+06       7.000000  ...           14.000000    8047.000000\n",
              "75%    1.004478e+06      14.000000  ...           16.000000   12054.000000\n",
              "max    1.006040e+06      20.000000  ...           18.000000   23961.000000\n",
              "\n",
              "[8 rows x 7 columns]"
            ]
          },
          "metadata": {
            "tags": []
          },
          "execution_count": 162
        }
      ]
    },
    {
      "cell_type": "code",
      "metadata": {
        "id": "Bia8gOF9LTsH",
        "colab_type": "code",
        "outputId": "4ae6709e-6efa-4205-c745-623ef4072fef",
        "colab": {
          "base_uri": "https://localhost:8080/",
          "height": 255
        }
      },
      "source": [
        "#Missing value treatment\n",
        "missing_values = data.isnull().sum()\n",
        "missing_values"
      ],
      "execution_count": 163,
      "outputs": [
        {
          "output_type": "execute_result",
          "data": {
            "text/plain": [
              "User_ID                            0\n",
              "Product_ID                         0\n",
              "Gender                             0\n",
              "Age                                0\n",
              "Occupation                         0\n",
              "City_Category                      0\n",
              "Stay_In_Current_City_Years         0\n",
              "Marital_Status                     0\n",
              "Product_Category_1                 0\n",
              "Product_Category_2            245982\n",
              "Product_Category_3            545809\n",
              "Purchase                      233599\n",
              "source                             0\n",
              "dtype: int64"
            ]
          },
          "metadata": {
            "tags": []
          },
          "execution_count": 163
        }
      ]
    },
    {
      "cell_type": "code",
      "metadata": {
        "id": "Kan0JHusZzp9",
        "colab_type": "code",
        "outputId": "ea71618e-32b5-4636-bcbd-91eed3bd74e7",
        "colab": {
          "base_uri": "https://localhost:8080/",
          "height": 340
        }
      },
      "source": [
        "df.info()"
      ],
      "execution_count": 142,
      "outputs": [
        {
          "output_type": "stream",
          "text": [
            "<class 'pandas.core.frame.DataFrame'>\n",
            "RangeIndex: 550068 entries, 0 to 550067\n",
            "Data columns (total 12 columns):\n",
            " #   Column                      Non-Null Count   Dtype  \n",
            "---  ------                      --------------   -----  \n",
            " 0   User_ID                     550068 non-null  int64  \n",
            " 1   Product_ID                  550068 non-null  object \n",
            " 2   Gender                      550068 non-null  object \n",
            " 3   Age                         550068 non-null  object \n",
            " 4   Occupation                  550068 non-null  int64  \n",
            " 5   City_Category               550068 non-null  object \n",
            " 6   Stay_In_Current_City_Years  550068 non-null  object \n",
            " 7   Marital_Status              550068 non-null  int64  \n",
            " 8   Product_Category_1          550068 non-null  int64  \n",
            " 9   Product_Category_2          376430 non-null  float64\n",
            " 10  Product_Category_3          166821 non-null  float64\n",
            " 11  Purchase                    550068 non-null  int64  \n",
            "dtypes: float64(2), int64(5), object(5)\n",
            "memory usage: 50.4+ MB\n"
          ],
          "name": "stdout"
        }
      ]
    },
    {
      "cell_type": "code",
      "metadata": {
        "id": "H11fItKpZ8Av",
        "colab_type": "code",
        "colab": {}
      },
      "source": [
        "# fill the missing value\n",
        "columns=['Product_Category_2','Product_Category_3']\n",
        "for col in columns:\n",
        "  data[col].fillna(0,inplace= True)"
      ],
      "execution_count": 0,
      "outputs": []
    },
    {
      "cell_type": "code",
      "metadata": {
        "id": "bXYpxIbkw_vI",
        "colab_type": "code",
        "colab": {}
      },
      "source": [
        ""
      ],
      "execution_count": 0,
      "outputs": []
    },
    {
      "cell_type": "code",
      "metadata": {
        "id": "A4Hu24gYVn1_",
        "colab_type": "code",
        "outputId": "b65c070e-778c-43c9-ffa8-c1fe6a9b4983",
        "colab": {
          "base_uri": "https://localhost:8080/",
          "height": 204
        }
      },
      "source": [
        "#Apply function len(unique()) to every data variable\n",
        "data.apply(lambda x: len(x.unique()))"
      ],
      "execution_count": 128,
      "outputs": [
        {
          "output_type": "execute_result",
          "data": {
            "text/plain": [
              "Gender                         2\n",
              "Age                            7\n",
              "Occupation                    21\n",
              "City_Category                  3\n",
              "Stay_In_Current_City_Years     5\n",
              "Marital_Status                 2\n",
              "Product_Category_1            20\n",
              "Product_Category_2            18\n",
              "Product_Category_3            16\n",
              "source                         2\n",
              "dtype: int64"
            ]
          },
          "metadata": {
            "tags": []
          },
          "execution_count": 128
        }
      ]
    },
    {
      "cell_type": "code",
      "metadata": {
        "id": "nScItkFgWGJ-",
        "colab_type": "code",
        "outputId": "49bfe1d9-6bda-40c2-e6a8-879ec0fe409e",
        "colab": {
          "base_uri": "https://localhost:8080/",
          "height": 1000
        }
      },
      "source": [
        "#To check the frequency of the features\n",
        "#Print frequency of categories\n",
        "for col in data:\n",
        " #Number of times each value appears in the column\n",
        " frequency = data[col].value_counts()\n",
        " print(\"\\nThis is the frequency distribution for \" + col + \":\")\n",
        " print(frequency)\n"
      ],
      "execution_count": 144,
      "outputs": [
        {
          "output_type": "stream",
          "text": [
            "\n",
            "This is the frequency distribution for Gender:\n",
            "M    590031\n",
            "F    193636\n",
            "Name: Gender, dtype: int64\n",
            "\n",
            "This is the frequency distribution for Age:\n",
            "26-35    313015\n",
            "36-45    156724\n",
            "18-25    141953\n",
            "46-50     65278\n",
            "51-55     54784\n",
            "55+       30579\n",
            "0-17      21334\n",
            "Name: Age, dtype: int64\n",
            "\n",
            "This is the frequency distribution for Occupation:\n",
            "4     103086\n",
            "0      98850\n",
            "7      84127\n",
            "1      67687\n",
            "17     57418\n",
            "20     47840\n",
            "12     44448\n",
            "14     38782\n",
            "2      37996\n",
            "16     36122\n",
            "6      29102\n",
            "3      25126\n",
            "10     18304\n",
            "5      17373\n",
            "15     17356\n",
            "11     16593\n",
            "19     11919\n",
            "13     11053\n",
            "18      9367\n",
            "9       8929\n",
            "8       2189\n",
            "Name: Occupation, dtype: int64\n",
            "\n",
            "This is the frequency distribution for City_Category:\n",
            "B    329739\n",
            "C    243684\n",
            "A    210244\n",
            "Name: City_Category, dtype: int64\n",
            "\n",
            "This is the frequency distribution for Stay_In_Current_City_Years:\n",
            "1     276425\n",
            "2     145427\n",
            "3     135428\n",
            "4+    120671\n",
            "0     105716\n",
            "Name: Stay_In_Current_City_Years, dtype: int64\n",
            "\n",
            "This is the frequency distribution for Marital_Status:\n",
            "0    462538\n",
            "1    321129\n",
            "Name: Marital_Status, dtype: int64\n",
            "\n",
            "This is the frequency distribution for Product_Category_1:\n",
            "5     215950\n",
            "1     200699\n",
            "8     162294\n",
            "11     34440\n",
            "2      34056\n",
            "6      29326\n",
            "3      28791\n",
            "4      16756\n",
            "16     13933\n",
            "15      8984\n",
            "13      7930\n",
            "10      7373\n",
            "12      5610\n",
            "7       5345\n",
            "18      4436\n",
            "20      2550\n",
            "14      2186\n",
            "19      1603\n",
            "17       801\n",
            "9        604\n",
            "Name: Product_Category_1, dtype: int64\n",
            "\n",
            "This is the frequency distribution for Product_Category_2:\n",
            "0.0     245982\n",
            "8.0      91317\n",
            "14.0     78834\n",
            "2.0      70498\n",
            "16.0     61687\n",
            "15.0     54114\n",
            "5.0      37165\n",
            "4.0      36705\n",
            "6.0      23575\n",
            "11.0     20230\n",
            "17.0     19104\n",
            "13.0     15054\n",
            "9.0       8177\n",
            "12.0      7801\n",
            "10.0      4420\n",
            "3.0       4123\n",
            "18.0      4027\n",
            "7.0        854\n",
            "Name: Product_Category_2, dtype: int64\n",
            "\n",
            "This is the frequency distribution for Product_Category_3:\n",
            "0.0     545809\n",
            "16.0     46469\n",
            "15.0     39968\n",
            "14.0     26283\n",
            "17.0     23818\n",
            "5.0      23799\n",
            "8.0      17861\n",
            "9.0      16532\n",
            "12.0     13115\n",
            "13.0      7849\n",
            "6.0       6888\n",
            "18.0      6621\n",
            "4.0       2691\n",
            "11.0      2585\n",
            "10.0      2501\n",
            "3.0        878\n",
            "Name: Product_Category_3, dtype: int64\n",
            "\n",
            "This is the frequency distribution for source:\n",
            "train    550068\n",
            "test     233599\n",
            "Name: source, dtype: int64\n"
          ],
          "name": "stdout"
        }
      ]
    },
    {
      "cell_type": "markdown",
      "metadata": {
        "id": "OEJXkLpGV5Ya",
        "colab_type": "text"
      },
      "source": [
        "**Feature Engineering**"
      ]
    },
    {
      "cell_type": "code",
      "metadata": {
        "id": "CDyMdjFJUtak",
        "colab_type": "code",
        "colab": {}
      },
      "source": [
        "# coverting gender into binary\n",
        "temp = []\n",
        "for i in data.Gender:\n",
        "    if i == 'M':\n",
        "        temp.append(1)\n",
        "    else:\n",
        "        temp.append(0)\n",
        "data['Gender'] = temp\n"
      ],
      "execution_count": 0,
      "outputs": []
    },
    {
      "cell_type": "code",
      "metadata": {
        "id": "RjxHgSOPU3ho",
        "colab_type": "code",
        "colab": {}
      },
      "source": [
        "# Converting city_category to numerical value\n",
        "temp1 =[]\n",
        "for i in data['City_Category']:\n",
        "  if i=='A':\n",
        "    temp1.append(0)\n",
        "  elif i=='B':\n",
        "    temp1.append(1)\n",
        "  else:\n",
        "    temp1.append(2)\n",
        "data['City_Category']=temp1"
      ],
      "execution_count": 0,
      "outputs": []
    },
    {
      "cell_type": "code",
      "metadata": {
        "id": "CNwTG29neayz",
        "colab_type": "code",
        "colab": {}
      },
      "source": [
        "#converting stay in current city years to numerical\n",
        "stay_dict = {'0':0, '1':1, '2':2, '3':3, '4+':4}\n",
        "data[\"Stay_In_Current_City_Years\"] = data[\"Stay_In_Current_City_Years\"].apply(lambda x: stay_dict[x])"
      ],
      "execution_count": 0,
      "outputs": []
    },
    {
      "cell_type": "code",
      "metadata": {
        "id": "XRTbfOgSVECR",
        "colab_type": "code",
        "colab": {}
      },
      "source": [
        "# Converting age group to numerical\n",
        "age_dict={'0-17':0,'18-25':1,'26-35':2,'36-45':3,'46-50':4,'51-55':5,'55+':6}\n",
        "data['Age'] = data['Age'].apply(lambda x: age_dict[x])"
      ],
      "execution_count": 0,
      "outputs": []
    },
    {
      "cell_type": "code",
      "metadata": {
        "id": "IcU_pWD7e3bp",
        "colab_type": "code",
        "outputId": "062c890e-2592-4ea6-f196-804dc4d60687",
        "colab": {
          "base_uri": "https://localhost:8080/",
          "height": 379
        }
      },
      "source": [
        "data.head(10)"
      ],
      "execution_count": 169,
      "outputs": [
        {
          "output_type": "execute_result",
          "data": {
            "text/html": [
              "<div>\n",
              "<style scoped>\n",
              "    .dataframe tbody tr th:only-of-type {\n",
              "        vertical-align: middle;\n",
              "    }\n",
              "\n",
              "    .dataframe tbody tr th {\n",
              "        vertical-align: top;\n",
              "    }\n",
              "\n",
              "    .dataframe thead th {\n",
              "        text-align: right;\n",
              "    }\n",
              "</style>\n",
              "<table border=\"1\" class=\"dataframe\">\n",
              "  <thead>\n",
              "    <tr style=\"text-align: right;\">\n",
              "      <th></th>\n",
              "      <th>User_ID</th>\n",
              "      <th>Product_ID</th>\n",
              "      <th>Gender</th>\n",
              "      <th>Age</th>\n",
              "      <th>Occupation</th>\n",
              "      <th>City_Category</th>\n",
              "      <th>Stay_In_Current_City_Years</th>\n",
              "      <th>Marital_Status</th>\n",
              "      <th>Product_Category_1</th>\n",
              "      <th>Product_Category_2</th>\n",
              "      <th>Product_Category_3</th>\n",
              "      <th>Purchase</th>\n",
              "      <th>source</th>\n",
              "    </tr>\n",
              "  </thead>\n",
              "  <tbody>\n",
              "    <tr>\n",
              "      <th>0</th>\n",
              "      <td>1000001</td>\n",
              "      <td>P00069042</td>\n",
              "      <td>0</td>\n",
              "      <td>0</td>\n",
              "      <td>10</td>\n",
              "      <td>0</td>\n",
              "      <td>2</td>\n",
              "      <td>0</td>\n",
              "      <td>3</td>\n",
              "      <td>0.0</td>\n",
              "      <td>0.0</td>\n",
              "      <td>8370.0</td>\n",
              "      <td>train</td>\n",
              "    </tr>\n",
              "    <tr>\n",
              "      <th>1</th>\n",
              "      <td>1000001</td>\n",
              "      <td>P00248942</td>\n",
              "      <td>0</td>\n",
              "      <td>0</td>\n",
              "      <td>10</td>\n",
              "      <td>0</td>\n",
              "      <td>2</td>\n",
              "      <td>0</td>\n",
              "      <td>1</td>\n",
              "      <td>6.0</td>\n",
              "      <td>14.0</td>\n",
              "      <td>15200.0</td>\n",
              "      <td>train</td>\n",
              "    </tr>\n",
              "    <tr>\n",
              "      <th>2</th>\n",
              "      <td>1000001</td>\n",
              "      <td>P00087842</td>\n",
              "      <td>0</td>\n",
              "      <td>0</td>\n",
              "      <td>10</td>\n",
              "      <td>0</td>\n",
              "      <td>2</td>\n",
              "      <td>0</td>\n",
              "      <td>12</td>\n",
              "      <td>0.0</td>\n",
              "      <td>0.0</td>\n",
              "      <td>1422.0</td>\n",
              "      <td>train</td>\n",
              "    </tr>\n",
              "    <tr>\n",
              "      <th>3</th>\n",
              "      <td>1000001</td>\n",
              "      <td>P00085442</td>\n",
              "      <td>0</td>\n",
              "      <td>0</td>\n",
              "      <td>10</td>\n",
              "      <td>0</td>\n",
              "      <td>2</td>\n",
              "      <td>0</td>\n",
              "      <td>12</td>\n",
              "      <td>14.0</td>\n",
              "      <td>0.0</td>\n",
              "      <td>1057.0</td>\n",
              "      <td>train</td>\n",
              "    </tr>\n",
              "    <tr>\n",
              "      <th>4</th>\n",
              "      <td>1000002</td>\n",
              "      <td>P00285442</td>\n",
              "      <td>1</td>\n",
              "      <td>6</td>\n",
              "      <td>16</td>\n",
              "      <td>2</td>\n",
              "      <td>4</td>\n",
              "      <td>0</td>\n",
              "      <td>8</td>\n",
              "      <td>0.0</td>\n",
              "      <td>0.0</td>\n",
              "      <td>7969.0</td>\n",
              "      <td>train</td>\n",
              "    </tr>\n",
              "    <tr>\n",
              "      <th>5</th>\n",
              "      <td>1000003</td>\n",
              "      <td>P00193542</td>\n",
              "      <td>1</td>\n",
              "      <td>2</td>\n",
              "      <td>15</td>\n",
              "      <td>0</td>\n",
              "      <td>3</td>\n",
              "      <td>0</td>\n",
              "      <td>1</td>\n",
              "      <td>2.0</td>\n",
              "      <td>0.0</td>\n",
              "      <td>15227.0</td>\n",
              "      <td>train</td>\n",
              "    </tr>\n",
              "    <tr>\n",
              "      <th>6</th>\n",
              "      <td>1000004</td>\n",
              "      <td>P00184942</td>\n",
              "      <td>1</td>\n",
              "      <td>4</td>\n",
              "      <td>7</td>\n",
              "      <td>1</td>\n",
              "      <td>2</td>\n",
              "      <td>1</td>\n",
              "      <td>1</td>\n",
              "      <td>8.0</td>\n",
              "      <td>17.0</td>\n",
              "      <td>19215.0</td>\n",
              "      <td>train</td>\n",
              "    </tr>\n",
              "    <tr>\n",
              "      <th>7</th>\n",
              "      <td>1000004</td>\n",
              "      <td>P00346142</td>\n",
              "      <td>1</td>\n",
              "      <td>4</td>\n",
              "      <td>7</td>\n",
              "      <td>1</td>\n",
              "      <td>2</td>\n",
              "      <td>1</td>\n",
              "      <td>1</td>\n",
              "      <td>15.0</td>\n",
              "      <td>0.0</td>\n",
              "      <td>15854.0</td>\n",
              "      <td>train</td>\n",
              "    </tr>\n",
              "    <tr>\n",
              "      <th>8</th>\n",
              "      <td>1000004</td>\n",
              "      <td>P0097242</td>\n",
              "      <td>1</td>\n",
              "      <td>4</td>\n",
              "      <td>7</td>\n",
              "      <td>1</td>\n",
              "      <td>2</td>\n",
              "      <td>1</td>\n",
              "      <td>1</td>\n",
              "      <td>16.0</td>\n",
              "      <td>0.0</td>\n",
              "      <td>15686.0</td>\n",
              "      <td>train</td>\n",
              "    </tr>\n",
              "    <tr>\n",
              "      <th>9</th>\n",
              "      <td>1000005</td>\n",
              "      <td>P00274942</td>\n",
              "      <td>1</td>\n",
              "      <td>2</td>\n",
              "      <td>20</td>\n",
              "      <td>0</td>\n",
              "      <td>1</td>\n",
              "      <td>1</td>\n",
              "      <td>8</td>\n",
              "      <td>0.0</td>\n",
              "      <td>0.0</td>\n",
              "      <td>7871.0</td>\n",
              "      <td>train</td>\n",
              "    </tr>\n",
              "  </tbody>\n",
              "</table>\n",
              "</div>"
            ],
            "text/plain": [
              "   User_ID Product_ID  Gender  ...  Product_Category_3  Purchase  source\n",
              "0  1000001  P00069042       0  ...                 0.0    8370.0   train\n",
              "1  1000001  P00248942       0  ...                14.0   15200.0   train\n",
              "2  1000001  P00087842       0  ...                 0.0    1422.0   train\n",
              "3  1000001  P00085442       0  ...                 0.0    1057.0   train\n",
              "4  1000002  P00285442       1  ...                 0.0    7969.0   train\n",
              "5  1000003  P00193542       1  ...                 0.0   15227.0   train\n",
              "6  1000004  P00184942       1  ...                17.0   19215.0   train\n",
              "7  1000004  P00346142       1  ...                 0.0   15854.0   train\n",
              "8  1000004   P0097242       1  ...                 0.0   15686.0   train\n",
              "9  1000005  P00274942       1  ...                 0.0    7871.0   train\n",
              "\n",
              "[10 rows x 13 columns]"
            ]
          },
          "metadata": {
            "tags": []
          },
          "execution_count": 169
        }
      ]
    },
    {
      "cell_type": "code",
      "metadata": {
        "id": "53n6N3nfWhJH",
        "colab_type": "code",
        "colab": {}
      },
      "source": [
        "def getCountVar(compute_df, count_df, var_name):\n",
        "    grouped_df = count_df.groupby(var_name)\n",
        "    count_dict = {}\n",
        "    for name, group in grouped_df:\n",
        "        count_dict[name] = group.shape[0]\n",
        "        count_list = []\n",
        "    for index, row in compute_df.iterrows():\n",
        "        name = row[var_name]\n",
        "        count_list.append(count_dict.get(name, 0))\n",
        "    return count_list"
      ],
      "execution_count": 0,
      "outputs": []
    },
    {
      "cell_type": "code",
      "metadata": {
        "id": "ZuhJObtMvwTw",
        "colab_type": "code",
        "colab": {}
      },
      "source": [
        "#we’ll create a count column for each categorical feature to understand the model relation with features much better\n",
        "#data[“User_ID_Count”] = getCountVar(data, data, “User_ID”)\n",
        "data[\"Age_Count\"] =getCountVar(data, data, \"Age\")\n",
        "data[\"Occupation_Count\"] =getCountVar(data, data, \"Occupation\")\n",
        "data[\"Product_Category_1_Count\"] =getCountVar(data, data,\"Product_Category_1\")\n",
        "data[\"Product_Category_2_Count\"] =getCountVar(data, data, \"Product_Category_2\")\n",
        "data[\"Product_Category_3_Count\"] =getCountVar(data, data,\"Product_Category_3\")\n",
        "data[\"Product_ID_Count\"] =getCountVar(data, data, \"Product_ID\")"
      ],
      "execution_count": 0,
      "outputs": []
    },
    {
      "cell_type": "code",
      "metadata": {
        "id": "1PDgjz5zL57Q",
        "colab_type": "code",
        "colab": {}
      },
      "source": [
        ""
      ],
      "execution_count": 0,
      "outputs": []
    },
    {
      "cell_type": "code",
      "metadata": {
        "id": "tMBWEnfpL3CN",
        "colab_type": "code",
        "colab": {}
      },
      "source": [
        "# Now we can create the max and min of column User_ID, Product_ID and product_category_1\n",
        "data[\"User_ID_MinPrice\"] = data.groupby(['User_ID'])['Purchase'].transform('min')\n",
        "\n",
        "data[\"User_ID_MaxPrice\"] = data.groupby(['User_ID'])['Purchase'].transform('max')\n",
        " \n",
        "data[\"Product_ID_MinPrice\"] =data.groupby(['Product_ID'])['Purchase'].transform('min')\n",
        "\n",
        "data[\"Product_ID_MaxPrice\"] =data.groupby(['Product_ID'])['Purchase'].transform('max')\n",
        "\n",
        "data[\"Product_Cat1_MaxPrice\"] = data.groupby(['Product_Category_1'])['Purchase'].transform('max')\n",
        "\n",
        "data[\"Product_Cat1_MeanPrice\"] = data.groupby(['Product_Category_1'])['Purchase'].transform('mean')\n"
      ],
      "execution_count": 0,
      "outputs": []
    },
    {
      "cell_type": "code",
      "metadata": {
        "id": "JKK4uslkiVva",
        "colab_type": "code",
        "outputId": "b519ae60-4e9d-4797-95f0-5e5a17b60a9b",
        "colab": {
          "base_uri": "https://localhost:8080/",
          "height": 224
        }
      },
      "source": [
        "data.head()"
      ],
      "execution_count": 188,
      "outputs": [
        {
          "output_type": "execute_result",
          "data": {
            "text/html": [
              "<div>\n",
              "<style scoped>\n",
              "    .dataframe tbody tr th:only-of-type {\n",
              "        vertical-align: middle;\n",
              "    }\n",
              "\n",
              "    .dataframe tbody tr th {\n",
              "        vertical-align: top;\n",
              "    }\n",
              "\n",
              "    .dataframe thead th {\n",
              "        text-align: right;\n",
              "    }\n",
              "</style>\n",
              "<table border=\"1\" class=\"dataframe\">\n",
              "  <thead>\n",
              "    <tr style=\"text-align: right;\">\n",
              "      <th></th>\n",
              "      <th>User_ID</th>\n",
              "      <th>Product_ID</th>\n",
              "      <th>Gender</th>\n",
              "      <th>Age</th>\n",
              "      <th>Occupation</th>\n",
              "      <th>City_Category</th>\n",
              "      <th>Stay_In_Current_City_Years</th>\n",
              "      <th>Marital_Status</th>\n",
              "      <th>Product_Category_1</th>\n",
              "      <th>Product_Category_2</th>\n",
              "      <th>Product_Category_3</th>\n",
              "      <th>Purchase</th>\n",
              "      <th>source</th>\n",
              "      <th>Age_Count</th>\n",
              "      <th>Occupation_Count</th>\n",
              "      <th>Product_Category_1_Count</th>\n",
              "      <th>Product_Category_2_Count</th>\n",
              "      <th>Product_Category_3_Count</th>\n",
              "      <th>Product_ID_Count</th>\n",
              "      <th>User_ID_MinPrice</th>\n",
              "      <th>User_ID_MaxPrice</th>\n",
              "      <th>Product_ID_MinPrice</th>\n",
              "      <th>Product_ID_MaxPrice</th>\n",
              "      <th>Product_Cat1_MaxPrice</th>\n",
              "      <th>Product_Cat1_MeanPrice</th>\n",
              "    </tr>\n",
              "  </thead>\n",
              "  <tbody>\n",
              "    <tr>\n",
              "      <th>0</th>\n",
              "      <td>1000001</td>\n",
              "      <td>P00069042</td>\n",
              "      <td>0</td>\n",
              "      <td>0</td>\n",
              "      <td>10</td>\n",
              "      <td>0</td>\n",
              "      <td>2</td>\n",
              "      <td>0</td>\n",
              "      <td>3</td>\n",
              "      <td>0.0</td>\n",
              "      <td>0.0</td>\n",
              "      <td>8370.0</td>\n",
              "      <td>train</td>\n",
              "      <td>21334</td>\n",
              "      <td>18304</td>\n",
              "      <td>28791</td>\n",
              "      <td>245982</td>\n",
              "      <td>545809</td>\n",
              "      <td>344</td>\n",
              "      <td>612.0</td>\n",
              "      <td>19219.0</td>\n",
              "      <td>2648.0</td>\n",
              "      <td>13716.0</td>\n",
              "      <td>13717.0</td>\n",
              "      <td>10096.705734</td>\n",
              "    </tr>\n",
              "    <tr>\n",
              "      <th>1</th>\n",
              "      <td>1000001</td>\n",
              "      <td>P00248942</td>\n",
              "      <td>0</td>\n",
              "      <td>0</td>\n",
              "      <td>10</td>\n",
              "      <td>0</td>\n",
              "      <td>2</td>\n",
              "      <td>0</td>\n",
              "      <td>1</td>\n",
              "      <td>6.0</td>\n",
              "      <td>14.0</td>\n",
              "      <td>15200.0</td>\n",
              "      <td>train</td>\n",
              "      <td>21334</td>\n",
              "      <td>18304</td>\n",
              "      <td>200699</td>\n",
              "      <td>23575</td>\n",
              "      <td>26283</td>\n",
              "      <td>845</td>\n",
              "      <td>612.0</td>\n",
              "      <td>19219.0</td>\n",
              "      <td>3880.0</td>\n",
              "      <td>19701.0</td>\n",
              "      <td>19708.0</td>\n",
              "      <td>13606.218596</td>\n",
              "    </tr>\n",
              "    <tr>\n",
              "      <th>2</th>\n",
              "      <td>1000001</td>\n",
              "      <td>P00087842</td>\n",
              "      <td>0</td>\n",
              "      <td>0</td>\n",
              "      <td>10</td>\n",
              "      <td>0</td>\n",
              "      <td>2</td>\n",
              "      <td>0</td>\n",
              "      <td>12</td>\n",
              "      <td>0.0</td>\n",
              "      <td>0.0</td>\n",
              "      <td>1422.0</td>\n",
              "      <td>train</td>\n",
              "      <td>21334</td>\n",
              "      <td>18304</td>\n",
              "      <td>5610</td>\n",
              "      <td>245982</td>\n",
              "      <td>545809</td>\n",
              "      <td>150</td>\n",
              "      <td>612.0</td>\n",
              "      <td>19219.0</td>\n",
              "      <td>343.0</td>\n",
              "      <td>1776.0</td>\n",
              "      <td>1778.0</td>\n",
              "      <td>1350.859894</td>\n",
              "    </tr>\n",
              "    <tr>\n",
              "      <th>3</th>\n",
              "      <td>1000001</td>\n",
              "      <td>P00085442</td>\n",
              "      <td>0</td>\n",
              "      <td>0</td>\n",
              "      <td>10</td>\n",
              "      <td>0</td>\n",
              "      <td>2</td>\n",
              "      <td>0</td>\n",
              "      <td>12</td>\n",
              "      <td>14.0</td>\n",
              "      <td>0.0</td>\n",
              "      <td>1057.0</td>\n",
              "      <td>train</td>\n",
              "      <td>21334</td>\n",
              "      <td>18304</td>\n",
              "      <td>5610</td>\n",
              "      <td>78834</td>\n",
              "      <td>545809</td>\n",
              "      <td>496</td>\n",
              "      <td>612.0</td>\n",
              "      <td>19219.0</td>\n",
              "      <td>365.0</td>\n",
              "      <td>1778.0</td>\n",
              "      <td>1778.0</td>\n",
              "      <td>1350.859894</td>\n",
              "    </tr>\n",
              "    <tr>\n",
              "      <th>4</th>\n",
              "      <td>1000002</td>\n",
              "      <td>P00285442</td>\n",
              "      <td>1</td>\n",
              "      <td>6</td>\n",
              "      <td>16</td>\n",
              "      <td>2</td>\n",
              "      <td>4</td>\n",
              "      <td>0</td>\n",
              "      <td>8</td>\n",
              "      <td>0.0</td>\n",
              "      <td>0.0</td>\n",
              "      <td>7969.0</td>\n",
              "      <td>train</td>\n",
              "      <td>30579</td>\n",
              "      <td>36122</td>\n",
              "      <td>162294</td>\n",
              "      <td>245982</td>\n",
              "      <td>545809</td>\n",
              "      <td>283</td>\n",
              "      <td>119.0</td>\n",
              "      <td>20657.0</td>\n",
              "      <td>3920.0</td>\n",
              "      <td>10073.0</td>\n",
              "      <td>10082.0</td>\n",
              "      <td>7498.958078</td>\n",
              "    </tr>\n",
              "  </tbody>\n",
              "</table>\n",
              "</div>"
            ],
            "text/plain": [
              "   User_ID Product_ID  ...  Product_Cat1_MaxPrice  Product_Cat1_MeanPrice\n",
              "0  1000001  P00069042  ...                13717.0            10096.705734\n",
              "1  1000001  P00248942  ...                19708.0            13606.218596\n",
              "2  1000001  P00087842  ...                 1778.0             1350.859894\n",
              "3  1000001  P00085442  ...                 1778.0             1350.859894\n",
              "4  1000002  P00285442  ...                10082.0             7498.958078\n",
              "\n",
              "[5 rows x 25 columns]"
            ]
          },
          "metadata": {
            "tags": []
          },
          "execution_count": 188
        }
      ]
    },
    {
      "cell_type": "code",
      "metadata": {
        "id": "z3VIQJC2OWrk",
        "colab_type": "code",
        "colab": {}
      },
      "source": [
        ""
      ],
      "execution_count": 0,
      "outputs": []
    },
    {
      "cell_type": "markdown",
      "metadata": {
        "id": "Sx_RjYVaOXa_",
        "colab_type": "text"
      },
      "source": [
        "**EXPORTING DATA**"
      ]
    },
    {
      "cell_type": "code",
      "metadata": {
        "id": "cBOuTBPgYOAZ",
        "colab_type": "code",
        "colab": {}
      },
      "source": [
        "#Divide into test and train:\n",
        "train_new = data.loc[data['source']==\"train\"]\n",
        "test_new = data.loc[data['source']==\"test\"]\n",
        "#Drop unnecessary columns:\n",
        "test_new.drop(['source'],axis=1,inplace=True)\n",
        "train_new.drop(['source'],axis=1,inplace=True)\n"
      ],
      "execution_count": 0,
      "outputs": []
    },
    {
      "cell_type": "code",
      "metadata": {
        "id": "zf_Xkd9KeH9t",
        "colab_type": "code",
        "colab": {}
      },
      "source": [
        "\n",
        "#x_train =train_new.copy()\n",
        "#y_train =train['Purchase']\n",
        "#x_test = test_new.copy()\n",
        "#y_test =train['Purchase']"
      ],
      "execution_count": 0,
      "outputs": []
    },
    {
      "cell_type": "code",
      "metadata": {
        "id": "2bsKX08aF1Fo",
        "colab_type": "code",
        "colab": {}
      },
      "source": [
        "#y_train"
      ],
      "execution_count": 0,
      "outputs": []
    },
    {
      "cell_type": "markdown",
      "metadata": {
        "id": "gbSGUCoiOfKT",
        "colab_type": "text"
      },
      "source": [
        "**MODELLING**"
      ]
    },
    {
      "cell_type": "code",
      "metadata": {
        "id": "PSpIdMiFxq_E",
        "colab_type": "code",
        "colab": {}
      },
      "source": [
        "#Define target and ID columns:\n",
        "target = 'Purchase'\n",
        "IDcol = ['User_ID','Product_ID']\n",
        "from sklearn import metrics\n",
        "def modelfit(alg, dtrain, dtest, predictors, target, IDcol, filename):\n",
        "    #Fit the algorithm on the data\n",
        "    alg.fit(dtrain[predictors], dtrain[target])\n",
        "        \n",
        "    #Predict training set:\n",
        "    dtrain_predictions = alg.predict(dtrain[predictors])\n",
        "#Perform cross-validation:\n",
        "    #cv_score = cross_validation.cross_val_score(alg, dtrain[predictors],(dtrain[target]) , cv=20, scoring='neg_mean_squared_error')\n",
        "    #cv_score = np.sqrt(np.abs(cv_score))\n",
        "    \n",
        "    #Print model report:\n",
        "    print(\"\\nModel Report\")\n",
        "    print(\"RMSE : %.4g\" % np.sqrt(metrics.mean_squared_error((dtrain[target]).values, dtrain_predictions)))\n",
        "    \n",
        "    #Predict on testing data:\n",
        "    dtest[target] = alg.predict(dtest[predictors])\n",
        "\n",
        "    #Export submission file:\n",
        "    IDcol.append(target)\n",
        "    submission = pd.DataFrame({ x: dtest[x] for x in IDcol})\n",
        "    submission.to_csv('decision_tree_model.csv', index=False)\n",
        "    "
      ],
      "execution_count": 0,
      "outputs": []
    },
    {
      "cell_type": "code",
      "metadata": {
        "id": "T3nszuFqOkIz",
        "colab_type": "code",
        "colab": {}
      },
      "source": [
        ""
      ],
      "execution_count": 0,
      "outputs": []
    },
    {
      "cell_type": "markdown",
      "metadata": {
        "id": "_iE-0BRvOwmp",
        "colab_type": "text"
      },
      "source": [
        "**DECISION TREE MODEL**"
      ]
    },
    {
      "cell_type": "code",
      "metadata": {
        "id": "OmnHRekyCt0f",
        "colab_type": "code",
        "colab": {
          "base_uri": "https://localhost:8080/",
          "height": 68
        },
        "outputId": "4e619b68-d12b-4342-e371-92138c6686d0"
      },
      "source": [
        "from sklearn.tree import DecisionTreeRegressor\n",
        "DT = DecisionTreeRegressor(max_depth=15, min_samples_leaf=100)\n",
        "modelfit(DT, train_new, test_new, predictors, target, IDcol, 'DT.csv')"
      ],
      "execution_count": 194,
      "outputs": [
        {
          "output_type": "stream",
          "text": [
            "\n",
            "Model Report\n",
            "RMSE : 2670\n"
          ],
          "name": "stdout"
        }
      ]
    },
    {
      "cell_type": "code",
      "metadata": {
        "id": "5tuRxJgrJt0W",
        "colab_type": "code",
        "colab": {}
      },
      "source": [
        ""
      ],
      "execution_count": 0,
      "outputs": []
    },
    {
      "cell_type": "code",
      "metadata": {
        "id": "eUmtLptZQAMs",
        "colab_type": "code",
        "colab": {}
      },
      "source": [
        ""
      ],
      "execution_count": 0,
      "outputs": []
    },
    {
      "cell_type": "code",
      "metadata": {
        "id": "ol4NUTolQX42",
        "colab_type": "code",
        "colab": {}
      },
      "source": [
        ""
      ],
      "execution_count": 0,
      "outputs": []
    }
  ]
}